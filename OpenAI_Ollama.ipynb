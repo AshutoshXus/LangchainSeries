{
 "cells": [
  {
   "cell_type": "code",
   "execution_count": 1,
   "id": "d4115b91",
   "metadata": {},
   "outputs": [],
   "source": [
    "import os \n",
    "from dotenv import load_dotenv\n",
    "load_dotenv()\n",
    "\n",
    "os.environ['OPEN_AI_API_KEY'] = os.getenv(\"OPENAI_API_KEY\")\n",
    "os.environ['LANGCHAIN_API_KEY'] = os.getenv(\"LANGCHAIN_API_KEY\")\n",
    "os.environ['LANGCHAIN_TRACING_V2'] = \"true\"\n",
    "os.environ['LANGCHAIN_PROJECT'] = os.getenv(\"LANGCHAIN_PROJECT\")\n"
   ]
  },
  {
   "cell_type": "code",
   "execution_count": 2,
   "id": "633f69d4",
   "metadata": {},
   "outputs": [
    {
     "name": "stdout",
     "output_type": "stream",
     "text": [
      "client=<openai.resources.chat.completions.completions.Completions object at 0x0000014DC343C230> async_client=<openai.resources.chat.completions.completions.AsyncCompletions object at 0x0000014DC34D94C0> root_client=<openai.OpenAI object at 0x0000014DC0917440> root_async_client=<openai.AsyncOpenAI object at 0x0000014DC3477710> model_name='gpt-4o' model_kwargs={} openai_api_key=SecretStr('**********') stream_usage=True\n"
     ]
    }
   ],
   "source": [
    "from langchain_openai import ChatOpenAI\n",
    "\n",
    "llm=ChatOpenAI(model=\"gpt-4o\")\n",
    "print(llm)\n"
   ]
  },
  {
   "cell_type": "code",
   "execution_count": 3,
   "id": "02e6fd02",
   "metadata": {},
   "outputs": [
    {
     "data": {
      "text/plain": [
       "AIMessage(content='LangChain is a framework designed to facilitate the development of applications that leverage large language models (LLMs). It provides a set of tools and abstractions that make it easier to harness the power of LLMs for various use-cases, such as question answering, chatbots, data extraction, and more. LangChain is particularly useful for building applications that require interaction with and retrieval of information from large datasets, APIs, or other resources via natural language processing.\\n\\nKey features of LangChain include:\\n\\n1. **Chains**: LangChain enables developers to create chains of calls to language models and other utilities. This is useful for multi-step workflows where the output of one step may need to be processed further or fed into another model.\\n\\n2. **Prompt Templates**: This feature allows for the standardization of prompts used across different language model calls, enhancing consistency and efficiency.\\n\\n3. **Memory**: LangChain provides support for adding state or memory to applications, enabling the development of contextually aware and dynamic applications.\\n\\n4. **Integrations**: The framework integrates with numerous APIs and data sources, allowing applications to pull in external information and interact with external systems.\\n\\n5. **Evaluation and Debugging Tools**: LangChain includes tools to help developers evaluate the performance of their applications and debug issues.\\n\\n6. **Agents and Tools**: LangChain allows for the creation of agents that can perform actions based on natural language inputs. These agents can leverage various tools for specific tasks like searching information or performing calculations.\\n\\nLangChain is widely used in the natural language processing (NLP) community, particularly by those building complex AI applications that require the orchestration of multiple LLM interactions and data sources.', additional_kwargs={'refusal': None}, response_metadata={'token_usage': {'completion_tokens': 339, 'prompt_tokens': 12, 'total_tokens': 351, 'completion_tokens_details': {'accepted_prediction_tokens': 0, 'audio_tokens': 0, 'reasoning_tokens': 0, 'rejected_prediction_tokens': 0}, 'prompt_tokens_details': {'audio_tokens': 0, 'cached_tokens': 0}}, 'model_name': 'gpt-4o-2024-08-06', 'system_fingerprint': 'fp_eb3c3cb84d', 'id': 'chatcmpl-CR8VGNQk5zstPzWcxyx6wzLuO5wdF', 'service_tier': 'default', 'finish_reason': 'stop', 'logprobs': None}, id='run--bc536c4d-070a-4387-b27e-1993b2b13a4d-0', usage_metadata={'input_tokens': 12, 'output_tokens': 339, 'total_tokens': 351, 'input_token_details': {'audio': 0, 'cache_read': 0}, 'output_token_details': {'audio': 0, 'reasoning': 0}})"
      ]
     },
     "execution_count": 3,
     "metadata": {},
     "output_type": "execute_result"
    }
   ],
   "source": [
    "## Input and get resposne from LLM\n",
    "llm.invoke(\"what is langchain?\")"
   ]
  },
  {
   "cell_type": "code",
   "execution_count": 4,
   "id": "a70a807e",
   "metadata": {},
   "outputs": [
    {
     "data": {
      "text/plain": [
       "ChatPromptTemplate(input_variables=['input'], input_types={}, partial_variables={}, messages=[SystemMessagePromptTemplate(prompt=PromptTemplate(input_variables=[], input_types={}, partial_variables={}, template='You are an expert AI Enginer. Provide me answers based on question'), additional_kwargs={}), HumanMessagePromptTemplate(prompt=PromptTemplate(input_variables=['input'], input_types={}, partial_variables={}, template='{input}'), additional_kwargs={})])"
      ]
     },
     "execution_count": 4,
     "metadata": {},
     "output_type": "execute_result"
    }
   ],
   "source": [
    "### Chatprompt template\n",
    "from langchain_core.prompts import ChatPromptTemplate\n",
    "\n",
    "prompt = ChatPromptTemplate.from_messages(\n",
    "    [\n",
    "        (\"system\",\"You are an expert AI Enginer. Provide me answers based on question\"),\n",
    "        (\"user\",\"{input}\")\n",
    "    ]\n",
    ")\n",
    "prompt"
   ]
  },
  {
   "cell_type": "code",
   "execution_count": 5,
   "id": "6c5e3567",
   "metadata": {},
   "outputs": [
    {
     "name": "stdout",
     "output_type": "stream",
     "text": [
      "content='Langsmith is a tool developed by LangChain to assist developers in testing and evaluating their language model applications. It offers features to help debug chains and agents, test application outputs, and evaluate model performance. Langsmith provides a platform for developers to gain insight into the behavior of language models and optimize them for better performance and accuracy. It includes capabilities for logging interactions, visualizing workflows, and running evaluations to ensure that language applications work as intended. This tool is particularly useful in the iterative development process, allowing developers to refine their applications based on observed results and metrics.' additional_kwargs={'refusal': None} response_metadata={'token_usage': {'completion_tokens': 112, 'prompt_tokens': 33, 'total_tokens': 145, 'completion_tokens_details': {'accepted_prediction_tokens': 0, 'audio_tokens': 0, 'reasoning_tokens': 0, 'rejected_prediction_tokens': 0}, 'prompt_tokens_details': {'audio_tokens': 0, 'cached_tokens': 0}}, 'model_name': 'gpt-4o-2024-08-06', 'system_fingerprint': 'fp_cbf1785567', 'id': 'chatcmpl-CR8VSDxPWBsse8CtmErEsGvVTBhJ3', 'service_tier': 'default', 'finish_reason': 'stop', 'logprobs': None} id='run--83b6e0eb-3787-4587-a571-d4cb24e28385-0' usage_metadata={'input_tokens': 33, 'output_tokens': 112, 'total_tokens': 145, 'input_token_details': {'audio': 0, 'cache_read': 0}, 'output_token_details': {'audio': 0, 'reasoning': 0}}\n"
     ]
    }
   ],
   "source": [
    "chain = prompt|llm\n",
    "response = chain.invoke({\"input\":\"Can you tell me about Langsmith?\"})\n",
    "print(response)"
   ]
  },
  {
   "cell_type": "code",
   "execution_count": 6,
   "id": "e4a2dbc4",
   "metadata": {},
   "outputs": [
    {
     "data": {
      "text/plain": [
       "langchain_core.messages.ai.AIMessage"
      ]
     },
     "execution_count": 6,
     "metadata": {},
     "output_type": "execute_result"
    }
   ],
   "source": [
    "type(response)\n",
    "## Type is nothing but the AI Message"
   ]
  },
  {
   "cell_type": "code",
   "execution_count": 7,
   "id": "6bfb6170",
   "metadata": {},
   "outputs": [
    {
     "name": "stdout",
     "output_type": "stream",
     "text": [
      "Achieving success in life is a highly individualized journey, but there are several common principles that can be applied across various pursuits. Here are some key strategies to consider:\n",
      "\n",
      "1. **Set Clear Goals**: Define what success means to you, both in the short-term and long-term. Having clear, achievable goals gives you direction and motivation.\n",
      "\n",
      "2. **Develop a Plan**: Once you've set your goals, develop a step-by-step plan to achieve them. Break down larger goals into smaller, more manageable tasks.\n",
      "\n",
      "3. **Stay Committed and Consistent**: Consistency in your efforts is crucial. Develop a routine or habit that keeps you moving toward your goals regularly, even when motivation wanes.\n",
      "\n",
      "4. **Cultivate a Growth Mindset**: Embrace challenges and see failures as opportunities to learn and grow. A growth mindset helps you persist through difficulties and setbacks.\n",
      "\n",
      "5. **Invest in Education and Skills**: Continuously improve your knowledge and skills relevant to your interests and goals. This can involve formal education, self-directed learning, or practical experiences.\n",
      "\n",
      "6. **Build a Supportive Network**: Surround yourself with positive, motivated individuals who support your aspirations. Networking can provide valuable resources, opportunities, and encouragement.\n",
      "\n",
      "7. **Practice Self-discipline**: Develop the ability to control impulses, delay gratification, and focus on long-term rewards over short-term pleasures.\n",
      "\n",
      "8. **Maintain Work-Life Balance**: Ensure that you’re not neglecting personal well-being in pursuit of success. Balance is important for sustained performance and happiness.\n",
      "\n",
      "9. **Adapt and Be Resilient**: Be prepared to adapt your plans and approach in response to changing circumstances. Resilience helps you recover from setbacks and stay on track.\n",
      "\n",
      "10. **Stay Positive and Grateful**: Cultivate a positive attitude and practice gratitude regularly. Positivity can help you remain motivated, while gratitude enhances overall life satisfaction.\n",
      "\n",
      "11. **Seek Feedback and Reflect**: Regularly seek feedback on your progress and be open to constructive criticism. Reflect on your experiences to understand what works and what doesn’t.\n",
      "\n",
      "12. **Take Care of Your Health**: Physical and mental health are foundational to success. Prioritize a healthy lifestyle through exercise, nutrition, sleep, and stress management.\n",
      "\n",
      "Remember, success is often a balance of personal, professional, and social achievements, and it’s important that your definition of success aligns with your values and desires.\n"
     ]
    }
   ],
   "source": [
    "from langchain_core.output_parsers import StrOutputParser\n",
    "output_parser = StrOutputParser()\n",
    "chain = prompt|llm|output_parser\n",
    "\n",
    "response = chain.invoke({\"input\":\"How to successed in life?\"})\n",
    "print(response)"
   ]
  }
 ],
 "metadata": {
  "kernelspec": {
   "display_name": "Python 3",
   "language": "python",
   "name": "python3"
  },
  "language_info": {
   "codemirror_mode": {
    "name": "ipython",
    "version": 3
   },
   "file_extension": ".py",
   "mimetype": "text/x-python",
   "name": "python",
   "nbconvert_exporter": "python",
   "pygments_lexer": "ipython3",
   "version": "3.12.0"
  }
 },
 "nbformat": 4,
 "nbformat_minor": 5
}
